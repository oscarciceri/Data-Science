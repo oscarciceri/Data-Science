{
 "cells": [
  {
   "cell_type": "markdown",
   "metadata": {},
   "source": [
    "# Dipersion Plot\n",
    "\n",
    "\n",
    "\n"
   ]
  },
  {
   "cell_type": "markdown",
   "metadata": {},
   "source": [
    "##  Receive the data "
   ]
  },
  {
   "cell_type": "code",
   "execution_count": 14,
   "metadata": {},
   "outputs": [
    {
     "name": "stdout",
     "output_type": "stream",
     "text": [
      "dispersion_dataset.in\n"
     ]
    }
   ],
   "source": [
    "name=\"dispersion_dataset.in\"\n",
    "print(name)\n",
    "fname=\"/home/oscar/git/Data-Science/Plots/\"+name\n",
    "f = open(fname, 'r')\n",
    "num_cols = len(f.readline().split('\t'))\n",
    "f.seek(0)\n",
    "lines = f.read().splitlines()\n",
    "f.close()"
   ]
  },
  {
   "cell_type": "markdown",
   "metadata": {},
   "source": [
    "### Remove the first line "
   ]
  },
  {
   "cell_type": "code",
   "execution_count": 15,
   "metadata": {},
   "outputs": [
    {
     "data": {
      "text/plain": [
       "104"
      ]
     },
     "execution_count": 15,
     "metadata": {},
     "output_type": "execute_result"
    }
   ],
   "source": [
    "lines.pop(0)\n",
    "size = len(lines)\n",
    "size"
   ]
  },
  {
   "cell_type": "markdown",
   "metadata": {},
   "source": [
    "### Define the variables to save the data"
   ]
  },
  {
   "cell_type": "code",
   "execution_count": 109,
   "metadata": {},
   "outputs": [],
   "source": [
    "date = []\n",
    "apple = []\n",
    "google = []\n",
    "bankAmerica = []"
   ]
  },
  {
   "cell_type": "markdown",
   "metadata": {},
   "source": [
    "###  Receive the data"
   ]
  },
  {
   "cell_type": "code",
   "execution_count": 110,
   "metadata": {},
   "outputs": [
    {
     "name": "stdout",
     "output_type": "stream",
     "text": [
      "['808.01', '807.77', '813.02', '825.21', '827.18', '826.01', '829.86', '829.53', '830.94', '827.46']\n",
      "10\n"
     ]
    }
   ],
   "source": [
    "# for i in range(len(lines)):\n",
    "for i in range(10):\n",
    "    data = lines[i].split('\t')\n",
    "    date.append(str(data[0].replace(',', '.')))\n",
    "    apple.append(str(data[1].replace(',', '.')))\n",
    "    google.append(str(data[2].replace(',', '.')))\n",
    "    bankAmerica.append(str(data[3].replace(',', '.')))\n",
    "print(google)\n",
    "print(len(google))\n",
    "    \n",
    "    \n",
    "    \n",
    "    "
   ]
  },
  {
   "cell_type": "markdown",
   "metadata": {},
   "source": [
    "### Plot the dispersion"
   ]
  },
  {
   "cell_type": "code",
   "execution_count": 120,
   "metadata": {},
   "outputs": [
    {
     "name": "stdout",
     "output_type": "stream",
     "text": [
      "['808.01', '807.77', '813.02', '825.21', '827.18', '826.01', '829.86', '829.53', '830.94', '827.46']\n",
      "['116.15', '116.02', '116.61', '117.91', '118.99', '119.11', '119.75', '119.25', '119.04', '120']\n"
     ]
    },
    {
     "data": {
      "image/png": "[encoded data removed]",
      "text/plain": [
       "<Figure size 432x288 with 1 Axes>"
      ]
     },
     "metadata": {
      "needs_background": "light"
     },
     "output_type": "display_data"
    }
   ],
   "source": [
    "import numpy as np\n",
    "import matplotlib\n",
    "import matplotlib.pyplot as plt\n",
    "import matplotlib.cm as cm\n",
    "\n",
    "# Fixing random state for reproducibility\n",
    "np.random.seed(19680801)\n",
    "# N = len(google)\n",
    "# colors = np.random.rand(N)\n",
    "# area = (10 * np.random.rand(N))**2  # 0 to 15 point radii\n",
    "\n",
    "\n",
    "len(apple)\n",
    "len(google)\n",
    "\n",
    "# matplotlib.axes.Axes.set_xscale(1, 'linear')\n",
    "\n",
    "# plt.xlim(-0.02, 10)\n",
    "# plt.ylim(-0.04, 10)\n",
    "\n",
    "# plt.xlim(100, 150)\n",
    "# plt.ylim(800, 850)\n",
    "\n",
    "plt.plot(apple, google)\n",
    "plt.plot(apple, bankAmerica)\n",
    "plt.plot(google, bankAmerica)\n",
    "\n",
    "\n",
    "print(google)\n",
    "print(apple)\n",
    "\n",
    "plt.xlabel(\"Google\") # Text for X-Axis\n",
    "plt.ylabel(\"Apple\") # Text for Y-Axis\n",
    "plt.title(\"Relationship between Google and Applle\")\n",
    "\n",
    "plt.show()"
   ]
  },
  {
   "cell_type": "code",
   "execution_count": null,
   "metadata": {},
   "outputs": [],
   "source": []
  },
  {
   "cell_type": "code",
   "execution_count": null,
   "metadata": {},
   "outputs": [],
   "source": []
  },
  {
   "cell_type": "code",
   "execution_count": null,
   "metadata": {},
   "outputs": [],
   "source": []
  }
 ],
 "metadata": {
  "kernelspec": {
   "display_name": "Python 3",
   "language": "python",
   "name": "python3"
  },
  "language_info": {
   "codemirror_mode": {
    "name": "ipython",
    "version": 3
   },
   "file_extension": ".py",
   "mimetype": "text/x-python",
   "name": "python",
   "nbconvert_exporter": "python",
   "pygments_lexer": "ipython3",
   "version": "3.7.6"
  }
 },
 "nbformat": 4,
 "nbformat_minor": 4
}
