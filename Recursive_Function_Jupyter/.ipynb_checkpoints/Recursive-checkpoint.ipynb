{
 "cells": [
  {
   "cell_type": "markdown",
   "metadata": {},
   "source": [
    "# Python Recursive Function\n",
    "\n",
    "\n",
    "<div>\n",
    "<img src=\"recursive.jpeg\" width=\"200\"/>\n",
    "</div\n",
    "\n",
    "<!-- ![recursive.jpeg](attachment:recursive.jpeg) -->"
   ]
  },
  {
   "cell_type": "markdown",
   "metadata": {},
   "source": [
    "## Recursive Function"
   ]
  },
  {
   "cell_type": "code",
   "execution_count": 9,
   "metadata": {},
   "outputs": [],
   "source": [
    "def fatorial(n):\n",
    "    #print('n: ', n)\n",
    "    if n == 0:\n",
    "        return 1\n",
    "    else:\n",
    "        aux = fatorial(n - 1)\n",
    "\n",
    "    #print('\\nn: ',n,' aux:',aux)\n",
    "    x = n * aux\n",
    "    #print('x: ',x)\n",
    "\n",
    "    return x\n",
    "    "
   ]
  },
  {
   "cell_type": "markdown",
   "metadata": {},
   "source": [
    "## Main"
   ]
  },
  {
   "cell_type": "code",
   "execution_count": 10,
   "metadata": {},
   "outputs": [
    {
     "name": "stdout",
     "output_type": "stream",
     "text": [
      "Rta:  24\n"
     ]
    }
   ],
   "source": [
    "\n",
    "valor  = 4 \n",
    "f = fatorial(valor)\n",
    "print('Rta: ', f)"
   ]
  },
  {
   "cell_type": "markdown",
   "metadata": {},
   "source": [
    "# Conclusions\n"
   ]
  },
  {
   "cell_type": "markdown",
   "metadata": {},
   "source": [
    "* Working Jupyter Lab"
   ]
  },
  {
   "cell_type": "markdown",
   "metadata": {},
   "source": [
    "* Working Recursive Fuction"
   ]
  },
  {
   "cell_type": "markdown",
   "metadata": {},
   "source": [
    "* Working Sharing to HTML"
   ]
  },
  {
   "cell_type": "code",
   "execution_count": null,
   "metadata": {},
   "outputs": [],
   "source": []
  }
 ],
 "metadata": {
  "kernelspec": {
   "display_name": "Python 3",
   "language": "python",
   "name": "python3"
  },
  "language_info": {
   "codemirror_mode": {
    "name": "ipython",
    "version": 3
   },
   "file_extension": ".py",
   "mimetype": "text/x-python",
   "name": "python",
   "nbconvert_exporter": "python",
   "pygments_lexer": "ipython3",
   "version": "3.7.6"
  }
 },
 "nbformat": 4,
 "nbformat_minor": 4
}
